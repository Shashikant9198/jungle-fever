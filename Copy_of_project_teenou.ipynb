{
  "nbformat": 4,
  "nbformat_minor": 0,
  "metadata": {
    "colab": {
      "name": "Copy of project teenou",
      "provenance": [],
      "private_outputs": true
    },
    "kernelspec": {
      "name": "python3",
      "display_name": "Python 3"
    },
    "accelerator": "GPU"
  },
  "cells": [
    {
      "cell_type": "code",
      "metadata": {
        "id": "ZTUb6XEJK1wp",
        "colab_type": "code",
        "colab": {}
      },
      "source": [
        "from google.colab import drive\n",
        "drive.mount('/content/drive/')\n",
        "import os\n",
        "parsi=os.listdir('/content/drive/My Drive/Parasitized')\n",
        "len(parsi)\n",
        "\n",
        "\n",
        "pszt=[]\n",
        "for j in range(0,8051):\n",
        "    psz=parsi[j]\n",
        "    pszt.append(psz)\n",
        "Image=[]\n",
        "\n",
        "\n",
        "import imageio\n",
        "for i in pszt :\n",
        "    img=imageio.imread( '/content/drive/My Drive/Parasitized/'+i)\n",
        "    Image.append(img)\n",
        "import numpy as np\n",
        "Image=np.asarray(Image)"
      ],
      "execution_count": 0,
      "outputs": []
    },
    {
      "cell_type": "code",
      "metadata": {
        "id": "zvbMDF8HcAkX",
        "colab_type": "code",
        "colab": {}
      },
      "source": [
        "Image.shape"
      ],
      "execution_count": 0,
      "outputs": []
    },
    {
      "cell_type": "code",
      "metadata": {
        "id": "boOCOWJITyTL",
        "colab_type": "code",
        "colab": {}
      },
      "source": [
        "type(Image)"
      ],
      "execution_count": 0,
      "outputs": []
    },
    {
      "cell_type": "code",
      "metadata": {
        "id": "42JLFLCsTzmQ",
        "colab_type": "code",
        "colab": {}
      },
      "source": [
        "import cv2\n",
        "from google.colab.patches import cv2_imshow\n",
        "Image2=[]\n",
        "for j in range(8051):\n",
        "    Image[j].width=Image[j].shape[1]\n",
        "    \n",
        "    #OUR ALL IMAGES ARE OF DIFFERENT RESOLUTIONS , SO THIS GIVES US ARRAYS MATRIX OF VARIABLE DIMENTIONS \n",
        "    #AND THE FEATURE ARRAY VECTOR MUST BE OF SAME DIMENTIONS FOR EACH IMAGE ,SO WE RESIZED EVERY IMAGE TO 480*1000 SIZE\n",
        "    Image[j].height =150\n",
        "    Image[j].width = 150\n",
        "    dim = (Image[j].width, Image[j].height)\n",
        "    \n",
        "    #cv2.resize FUNCTION IS USED RESIZE IMAGES\n",
        "    resized = cv2.resize(Image[j], dim, interpolation = cv2.INTER_AREA)\n",
        "    Image2.append(resized)\n",
        "    #Image2=array(Image2)\n",
        "print('Resized Dimensions : ',resized.shape)\n",
        "print('Original Dimensions : ',Image[j].shape)\n",
        "\n",
        "\"\"\"6.WE PREVIOUSLY USED OPENCV AS CV2 AND ITS DRAWBACK IS, CV2 CONVERTS OUR COLOUR IMAGE TO BLUE GREEN RED FORMAT \n",
        "AND WE WANT THE IDEAL RED GREEN BLUE PIXEL VALUE SEQUENCE IN ARRAY FOR EX. [B G R] TO [R G B] WHERE R G B REPRESENTS \n",
        "PIXEL VALUE OF COLURS \"\"\"\n",
        "#USING OPENCV cv2.cvtColor\n",
        "Image2[j] = cv2.cvtColor(Image2[j], cv2.COLOR_BGR2RGB)\n",
        "cv2_imshow(Image2[j])\n",
        "cv2.waitKey(0)\n",
        "cv2.destroyAllWindows()\n",
        "#CONVERTING LIST Image2 TO NUMPY ARRAY FOR MANIPULATING EASILY\n",
        "Image2=np.array(Image2)"
      ],
      "execution_count": 0,
      "outputs": []
    },
    {
      "cell_type": "code",
      "metadata": {
        "id": "UFu8dHChGcfw",
        "colab_type": "code",
        "colab": {}
      },
      "source": [
        "from google.colab import drive\n",
        "drive.mount('/content/drive')"
      ],
      "execution_count": 0,
      "outputs": []
    },
    {
      "cell_type": "code",
      "metadata": {
        "id": "5Ktz8jeOX-Go",
        "colab_type": "code",
        "colab": {}
      },
      "source": [
        "\n",
        "\n",
        "import os\n",
        "Uninf=os.listdir('/content/drive/My Drive/Uninfected')\n",
        "len(Uninf)\n",
        "\n"
      ],
      "execution_count": 0,
      "outputs": []
    },
    {
      "cell_type": "code",
      "metadata": {
        "id": "vjfGL8E7pX1z",
        "colab_type": "code",
        "colab": {}
      },
      "source": [
        "\n",
        "Un_t=[]\n",
        "for j in range(0,8051):\n",
        "    Unif=Uninf[j]\n",
        "    Un_t.append(Unif)\n",
        "\n",
        "    \n",
        "Image3=[]\n",
        "import imageio\n",
        "for i in Un_t :\n",
        "    img1=imageio.imread( '/content/drive/My Drive/Uninfected/'+i)\n",
        "    Image3.append(img1)\n",
        "import numpy as np\n",
        "Image3=np.asarray(Image3)   "
      ],
      "execution_count": 0,
      "outputs": []
    },
    {
      "cell_type": "code",
      "metadata": {
        "id": "ktFtUgaPsfp_",
        "colab_type": "code",
        "colab": {}
      },
      "source": [
        "Image3.shape\n"
      ],
      "execution_count": 0,
      "outputs": []
    },
    {
      "cell_type": "code",
      "metadata": {
        "colab_type": "code",
        "id": "GtrK1E97sh_S",
        "colab": {}
      },
      "source": [
        "\n",
        "import cv2\n",
        "from google.colab.patches import cv2_imshow\n",
        "Image4=[]\n",
        "for j in range(8051):\n",
        "    Image3[j].width=Image3[j].shape[1]\n",
        "    \n",
        "    #OUR ALL IMAGES ARE OF DIFFERENT RESOLUTIONS , SO THIS GIVES US ARRAYS MATRIX OF VARIABLE DIMENTIONS \n",
        "    #AND THE FEATURE ARRAY VECTOR MUST BE OF SAME DIMENTIONS FOR EACH IMAGE ,SO WE RESIZED EVERY IMAGE TO 480*1000 SIZE\n",
        "    Image3[j].height =150\n",
        "    Image3[j].width = 150\n",
        "    dim = (Image3[j].width, Image3[j].height)\n",
        "    \n",
        "    #cv2.resize FUNCTION IS USED RESIZE IMAGES\n",
        "    resized = cv2.resize(Image3[j], dim, interpolation = cv2.INTER_AREA)\n",
        "    Image4.append(resized)\n",
        "    #Image4=array(Image4)\n",
        "print('Resized Dimensions : ',resized.shape)\n",
        "print('Original Dimensions : ',Image3[j].shape)\n",
        "\n",
        "\"\"\"6.WE PREVIOUSLY USED OPENCV AS CV2 AND ITS DRAWBACK IS, CV2 CONVERTS OUR COLOUR IMAGE TO BLUE GREEN RED FORMAT \n",
        "AND WE WANT THE IDEAL RED GREEN BLUE PIXEL VALUE SEQUENCE IN ARRAY FOR EX. [B G R] TO [R G B] WHERE R G B REPRESENTS \n",
        "PIXEL VALUE OF COLURS \"\"\"\n",
        "#USING OPENCV cv2.cvtColor\n",
        "Image4[j] = cv2.cvtColor(Image4[j], cv2.COLOR_BGR2RGB)\n",
        "cv2_imshow(Image4[j])\n",
        "cv2.waitKey(0)\n",
        "cv2.destroyAllWindows()\n",
        "#CONVERTING LIST Image2 TO NUMPY ARRAY FOR MANIPULATING EASILY\n",
        "Image4=np.array(Image4)"
      ],
      "execution_count": 0,
      "outputs": []
    },
    {
      "cell_type": "code",
      "metadata": {
        "id": "dS71P-34sqFg",
        "colab_type": "code",
        "colab": {}
      },
      "source": [
        "shapes = {Image2.shape for arr in Image2}\n",
        "#Imgfnl=np.stack([Image2,Image4])"
      ],
      "execution_count": 0,
      "outputs": []
    },
    {
      "cell_type": "code",
      "metadata": {
        "id": "7iAelS0Hs3JG",
        "colab_type": "code",
        "colab": {}
      },
      "source": [
        "shapes"
      ],
      "execution_count": 0,
      "outputs": []
    },
    {
      "cell_type": "code",
      "metadata": {
        "id": "_M3QdHWS4oQN",
        "colab_type": "code",
        "colab": {}
      },
      "source": [
        "shapes1 = {Image4.shape for arr in Image4}"
      ],
      "execution_count": 0,
      "outputs": []
    },
    {
      "cell_type": "code",
      "metadata": {
        "id": "HQY4CfPf4uhw",
        "colab_type": "code",
        "colab": {}
      },
      "source": [
        "shapes1"
      ],
      "execution_count": 0,
      "outputs": []
    },
    {
      "cell_type": "code",
      "metadata": {
        "id": "JF9Oqyoj4wMo",
        "colab_type": "code",
        "colab": {}
      },
      "source": [
        "Imgfnl=np.vstack([Image2,Image4])"
      ],
      "execution_count": 0,
      "outputs": []
    },
    {
      "cell_type": "code",
      "metadata": {
        "id": "oYdDLKDs5I6S",
        "colab_type": "code",
        "colab": {}
      },
      "source": [
        "X=Imgfnl"
      ],
      "execution_count": 0,
      "outputs": []
    },
    {
      "cell_type": "code",
      "metadata": {
        "id": "MUSN2vMN5M1U",
        "colab_type": "code",
        "colab": {}
      },
      "source": [
        "from sklearn import preprocessing \n",
        "labels=['Image2','Image4']\n",
        "encoder=preprocessing.LabelEncoder()\n",
        "encoder.fit(labels)\n",
        "for a,item in enumerate(encoder.classes_):\n",
        "    print(item,'=>',a)\n",
        "\n"
      ],
      "execution_count": 0,
      "outputs": []
    },
    {
      "cell_type": "code",
      "metadata": {
        "id": "2mV-aQy85OO-",
        "colab_type": "code",
        "colab": {}
      },
      "source": [
        "y = []\n",
        "for a in range(16102):\n",
        "    if a<8051:\n",
        "        y.append(0)\n",
        "    else:\n",
        "        y.append(1)"
      ],
      "execution_count": 0,
      "outputs": []
    },
    {
      "cell_type": "code",
      "metadata": {
        "id": "JRb27QlE6Qni",
        "colab_type": "code",
        "colab": {}
      },
      "source": [
        "Y=np.array(y)"
      ],
      "execution_count": 0,
      "outputs": []
    },
    {
      "cell_type": "code",
      "metadata": {
        "id": "ocHkLoos64ob",
        "colab_type": "code",
        "colab": {}
      },
      "source": [
        "#DATA VALIDATION INTO TEST DATA, TRAIN DATA WHERE SHUFFLE IS TRUE MEANS RANDOM DATA IS TAKEN FROM DATASET\n",
        "from sklearn.model_selection import train_test_split\n",
        "xTrain, xTest, yTrain, yTest = train_test_split(X, Y, test_size = 0.1, random_state = 0,shuffle=\"true\")\n",
        "p=xTrain.shape\n",
        "q=xTest.shape\n",
        "#PRINTS THE SHAPE OF xTrain\n",
        "print(p)\n",
        "print(q)"
      ],
      "execution_count": 0,
      "outputs": []
    },
    {
      "cell_type": "code",
      "metadata": {
        "id": "SPJhzFAQ69nT",
        "colab_type": "code",
        "colab": {}
      },
      "source": [
        "import tensorflow as tf"
      ],
      "execution_count": 0,
      "outputs": []
    },
    {
      "cell_type": "code",
      "metadata": {
        "id": "-g90Odkq7maf",
        "colab_type": "code",
        "colab": {}
      },
      "source": [
        "from tensorflow.keras.models import Sequential\n",
        "\n"
      ],
      "execution_count": 0,
      "outputs": []
    },
    {
      "cell_type": "code",
      "metadata": {
        "id": "2mlSuTf87p6F",
        "colab_type": "code",
        "colab": {}
      },
      "source": [
        "from tensorflow.keras.layers import Dense,Dropout,Activation,Flatten,Conv2D,MaxPooling2D\n"
      ],
      "execution_count": 0,
      "outputs": []
    },
    {
      "cell_type": "code",
      "metadata": {
        "id": "aTa8AyA47sqn",
        "colab_type": "code",
        "colab": {}
      },
      "source": [
        "from tensorflow.keras.optimizers import Adam"
      ],
      "execution_count": 0,
      "outputs": []
    },
    {
      "cell_type": "code",
      "metadata": {
        "id": "v8bc2Lry7vMr",
        "colab_type": "code",
        "colab": {}
      },
      "source": [
        "model =Sequential()\n",
        "X=X\n",
        "\n",
        "#LAYER_1\n",
        "model.add(Conv2D(64,(3,3),input_shape=X.shape[1:])     )\n",
        "model.add(Activation(\"relu\"))\n",
        "#RECTIFIED LINEAR UNIT\n",
        "\"\"\"ReLU is linear (identity) for all positive values, and zero for all negative values, AND ITS A ACTIVATION FUNCTION \"\"\"\n",
        "model.add(MaxPooling2D(pool_size=(2,2)))\n",
        "\n",
        "\n",
        "#LAYER_2\n",
        "model.add(Conv2D(42,(3,3),input_shape=X.shape[1:])     )\n",
        "model.add(Activation(\"relu\"))\n",
        "model.add(MaxPooling2D(pool_size=(2,2)))\n",
        "\n",
        "\n",
        "#LAYER_3\n",
        "model.add(Conv2D(28,(3,3),input_shape=X.shape[1:])     )\n",
        "model.add(Activation(\"relu\"))\n",
        "model.add(MaxPooling2D(pool_size=(2,2)))\n",
        "\n",
        "\n",
        "#LAYER_4\n",
        "#model.add(Conv2D(3,(5,5),input_shape=X.shape[1:])     )\n",
        "#model.add(Activation(\"relu\"))\n",
        "#model.add(MaxPooling2D(pool_size=(2,2)))\n",
        "\n",
        "\n",
        "model.add(Flatten())                     #FLATEEN LAYER\n",
        "\"\"\"The role of the Flatten layer in Keras is super simple: \n",
        "A flatten operation on a tensor reshapes the tensor to have the shape that is equal to \n",
        "the number of elements contained in tensor non including the batch dimension \"\"\"\n",
        "\n",
        "\n",
        "model.add(Dense(2))                      #DENSE LAYER\n",
        "\"\"\"DENSE LAYER IS FULLY CONNECTED TO OUTPUT LAYER \"\"\"\n",
        "\n",
        "#LAYER_LAST\n",
        "model.add(Dense(1))\n",
        "model.add(Activation(\"sigmoid\"))     #SIGMOID ACTIVATION FUNCTION IS FOR FULLY CONNECTED LAYER TO OUTPUT\n",
        "\n",
        "\n",
        "\n",
        "model.compile(Adam(lr=.001),loss=\"binary_crossentropy\",metrics=['accuracy'])\n",
        "#ACCURACY METROCS GIVES ACCURACY,LOSS,VAL_ACC,VAL_LOSS\n",
        "\n",
        "\n",
        "# GIVING MODEL TO TRAIN # \n",
        "model.fit(X,Y,batch_size=20,epochs=10,validation_split=0.2,shuffle=True) \n",
        "\n",
        "# HERE TAKING SUMMARY OF OUR NETWORK#\n",
        "model.summary "
      ],
      "execution_count": 0,
      "outputs": []
    }
  ]
}